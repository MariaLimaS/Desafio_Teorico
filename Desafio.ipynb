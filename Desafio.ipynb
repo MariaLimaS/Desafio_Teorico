{
  "nbformat": 4,
  "nbformat_minor": 0,
  "metadata": {
    "colab": {
      "provenance": [],
      "mount_file_id": "1q4WmbJWd4TVhhvL_YgxsYi3E6oRoJk1P",
      "authorship_tag": "ABX9TyMqiu3l75paQZlSbwSzTJ9h",
      "include_colab_link": true
    },
    "kernelspec": {
      "name": "python3",
      "display_name": "Python 3"
    },
    "language_info": {
      "name": "python"
    }
  },
  "cells": [
    {
      "cell_type": "markdown",
      "metadata": {
        "id": "view-in-github",
        "colab_type": "text"
      },
      "source": [
        "<a href=\"https://colab.research.google.com/github/MariaLimaS/Desafio_Teorico/blob/main/Desafio.ipynb\" target=\"_parent\"><img src=\"https://colab.research.google.com/assets/colab-badge.svg\" alt=\"Open In Colab\"/></a>"
      ]
    },
    {
      "cell_type": "markdown",
      "source": [
        "# **Desafio Técnico**\n",
        "\n",
        "Tarefa:\n",
        "- Identificar o perfil dos clientes que cancelam e aqueles que não cancelam\n",
        "- Apresentar modelo preditivo para o churn\n"
      ],
      "metadata": {
        "id": "_wNxuBHA5uNZ"
      }
    },
    {
      "cell_type": "markdown",
      "source": [
        "# **Carregando aquivo dataset.csv**"
      ],
      "metadata": {
        "id": "BPu1_jsEzTrn"
      }
    },
    {
      "cell_type": "code",
      "execution_count": 63,
      "metadata": {
        "id": "mPW8koer9Ymk"
      },
      "outputs": [],
      "source": [
        "import pandas as pd\n",
        "\n",
        "# Carregando a base de dados em um DataFrame do Pandas\n",
        "df = pd.read_csv('/content/drive/MyDrive/csv_por_churn/dataset.csv')\n"
      ]
    },
    {
      "cell_type": "markdown",
      "source": [
        "# **Analisando as classes e os dados**"
      ],
      "metadata": {
        "id": "VaA5pXMyzijt"
      }
    },
    {
      "cell_type": "code",
      "source": [
        "df.info()"
      ],
      "metadata": {
        "colab": {
          "base_uri": "https://localhost:8080/"
        },
        "id": "nTv7BNeK-EE1",
        "outputId": "1ea2fb1b-b02b-4193-83ae-37985591824d"
      },
      "execution_count": 64,
      "outputs": [
        {
          "output_type": "stream",
          "name": "stdout",
          "text": [
            "<class 'pandas.core.frame.DataFrame'>\n",
            "RangeIndex: 7043 entries, 0 to 7042\n",
            "Data columns (total 20 columns):\n",
            " #   Column            Non-Null Count  Dtype  \n",
            "---  ------            --------------  -----  \n",
            " 0   gender            7043 non-null   object \n",
            " 1   SeniorCitizen     7043 non-null   int64  \n",
            " 2   Partner           7043 non-null   object \n",
            " 3   Dependents        7043 non-null   object \n",
            " 4   tenure            7043 non-null   int64  \n",
            " 5   PhoneService      7043 non-null   object \n",
            " 6   MultipleLines     7043 non-null   object \n",
            " 7   InternetService   7043 non-null   object \n",
            " 8   OnlineSecurity    7043 non-null   object \n",
            " 9   OnlineBackup      7043 non-null   object \n",
            " 10  DeviceProtection  7043 non-null   object \n",
            " 11  TechSupport       7043 non-null   object \n",
            " 12  StreamingTV       7043 non-null   object \n",
            " 13  StreamingMovies   7043 non-null   object \n",
            " 14  Contract          7043 non-null   object \n",
            " 15  PaperlessBilling  7043 non-null   object \n",
            " 16  PaymentMethod     7043 non-null   object \n",
            " 17  MonthlyCharges    7043 non-null   float64\n",
            " 18  TotalCharges      7043 non-null   object \n",
            " 19  Churn             7043 non-null   object \n",
            "dtypes: float64(1), int64(2), object(17)\n",
            "memory usage: 1.1+ MB\n"
          ]
        }
      ]
    },
    {
      "cell_type": "code",
      "source": [
        "df"
      ],
      "metadata": {
        "colab": {
          "base_uri": "https://localhost:8080/",
          "height": 626
        },
        "id": "jOj6jbqk-riA",
        "outputId": "657a4e2c-779c-45a3-95ad-cda3082614e3"
      },
      "execution_count": 65,
      "outputs": [
        {
          "output_type": "execute_result",
          "data": {
            "text/plain": [
              "      gender  SeniorCitizen Partner Dependents  tenure PhoneService  \\\n",
              "0     Female              0     Yes         No       1           No   \n",
              "1       Male              0      No         No      34          Yes   \n",
              "2       Male              0      No         No       2          Yes   \n",
              "3       Male              0      No         No      45           No   \n",
              "4     Female              0      No         No       2          Yes   \n",
              "...      ...            ...     ...        ...     ...          ...   \n",
              "7038    Male              0     Yes        Yes      24          Yes   \n",
              "7039  Female              0     Yes        Yes      72          Yes   \n",
              "7040  Female              0     Yes        Yes      11           No   \n",
              "7041    Male              1     Yes         No       4          Yes   \n",
              "7042    Male              0      No         No      66          Yes   \n",
              "\n",
              "         MultipleLines InternetService OnlineSecurity OnlineBackup  \\\n",
              "0     No phone service             DSL             No          Yes   \n",
              "1                   No             DSL            Yes           No   \n",
              "2                   No             DSL            Yes          Yes   \n",
              "3     No phone service             DSL            Yes           No   \n",
              "4                   No     Fiber optic             No           No   \n",
              "...                ...             ...            ...          ...   \n",
              "7038               Yes             DSL            Yes           No   \n",
              "7039               Yes     Fiber optic             No          Yes   \n",
              "7040  No phone service             DSL            Yes           No   \n",
              "7041               Yes     Fiber optic             No           No   \n",
              "7042                No     Fiber optic            Yes           No   \n",
              "\n",
              "     DeviceProtection TechSupport StreamingTV StreamingMovies        Contract  \\\n",
              "0                  No          No          No              No  Month-to-month   \n",
              "1                 Yes          No          No              No        One year   \n",
              "2                  No          No          No              No  Month-to-month   \n",
              "3                 Yes         Yes          No              No        One year   \n",
              "4                  No          No          No              No  Month-to-month   \n",
              "...               ...         ...         ...             ...             ...   \n",
              "7038              Yes         Yes         Yes             Yes        One year   \n",
              "7039              Yes          No         Yes             Yes        One year   \n",
              "7040               No          No          No              No  Month-to-month   \n",
              "7041               No          No          No              No  Month-to-month   \n",
              "7042              Yes         Yes         Yes             Yes        Two year   \n",
              "\n",
              "     PaperlessBilling              PaymentMethod  MonthlyCharges TotalCharges  \\\n",
              "0                 Yes           Electronic check           29.85        29.85   \n",
              "1                  No               Mailed check           56.95       1889.5   \n",
              "2                 Yes               Mailed check           53.85       108.15   \n",
              "3                  No  Bank transfer (automatic)           42.30      1840.75   \n",
              "4                 Yes           Electronic check           70.70       151.65   \n",
              "...               ...                        ...             ...          ...   \n",
              "7038              Yes               Mailed check           84.80       1990.5   \n",
              "7039              Yes    Credit card (automatic)          103.20       7362.9   \n",
              "7040              Yes           Electronic check           29.60       346.45   \n",
              "7041              Yes               Mailed check           74.40        306.6   \n",
              "7042              Yes  Bank transfer (automatic)          105.65       6844.5   \n",
              "\n",
              "     Churn  \n",
              "0       No  \n",
              "1       No  \n",
              "2      Yes  \n",
              "3       No  \n",
              "4      Yes  \n",
              "...    ...  \n",
              "7038    No  \n",
              "7039    No  \n",
              "7040    No  \n",
              "7041   Yes  \n",
              "7042    No  \n",
              "\n",
              "[7043 rows x 20 columns]"
            ],
            "text/html": [
              "\n",
              "  <div id=\"df-629a6e3c-396c-45e6-9042-76b72ff0f09c\">\n",
              "    <div class=\"colab-df-container\">\n",
              "      <div>\n",
              "<style scoped>\n",
              "    .dataframe tbody tr th:only-of-type {\n",
              "        vertical-align: middle;\n",
              "    }\n",
              "\n",
              "    .dataframe tbody tr th {\n",
              "        vertical-align: top;\n",
              "    }\n",
              "\n",
              "    .dataframe thead th {\n",
              "        text-align: right;\n",
              "    }\n",
              "</style>\n",
              "<table border=\"1\" class=\"dataframe\">\n",
              "  <thead>\n",
              "    <tr style=\"text-align: right;\">\n",
              "      <th></th>\n",
              "      <th>gender</th>\n",
              "      <th>SeniorCitizen</th>\n",
              "      <th>Partner</th>\n",
              "      <th>Dependents</th>\n",
              "      <th>tenure</th>\n",
              "      <th>PhoneService</th>\n",
              "      <th>MultipleLines</th>\n",
              "      <th>InternetService</th>\n",
              "      <th>OnlineSecurity</th>\n",
              "      <th>OnlineBackup</th>\n",
              "      <th>DeviceProtection</th>\n",
              "      <th>TechSupport</th>\n",
              "      <th>StreamingTV</th>\n",
              "      <th>StreamingMovies</th>\n",
              "      <th>Contract</th>\n",
              "      <th>PaperlessBilling</th>\n",
              "      <th>PaymentMethod</th>\n",
              "      <th>MonthlyCharges</th>\n",
              "      <th>TotalCharges</th>\n",
              "      <th>Churn</th>\n",
              "    </tr>\n",
              "  </thead>\n",
              "  <tbody>\n",
              "    <tr>\n",
              "      <th>0</th>\n",
              "      <td>Female</td>\n",
              "      <td>0</td>\n",
              "      <td>Yes</td>\n",
              "      <td>No</td>\n",
              "      <td>1</td>\n",
              "      <td>No</td>\n",
              "      <td>No phone service</td>\n",
              "      <td>DSL</td>\n",
              "      <td>No</td>\n",
              "      <td>Yes</td>\n",
              "      <td>No</td>\n",
              "      <td>No</td>\n",
              "      <td>No</td>\n",
              "      <td>No</td>\n",
              "      <td>Month-to-month</td>\n",
              "      <td>Yes</td>\n",
              "      <td>Electronic check</td>\n",
              "      <td>29.85</td>\n",
              "      <td>29.85</td>\n",
              "      <td>No</td>\n",
              "    </tr>\n",
              "    <tr>\n",
              "      <th>1</th>\n",
              "      <td>Male</td>\n",
              "      <td>0</td>\n",
              "      <td>No</td>\n",
              "      <td>No</td>\n",
              "      <td>34</td>\n",
              "      <td>Yes</td>\n",
              "      <td>No</td>\n",
              "      <td>DSL</td>\n",
              "      <td>Yes</td>\n",
              "      <td>No</td>\n",
              "      <td>Yes</td>\n",
              "      <td>No</td>\n",
              "      <td>No</td>\n",
              "      <td>No</td>\n",
              "      <td>One year</td>\n",
              "      <td>No</td>\n",
              "      <td>Mailed check</td>\n",
              "      <td>56.95</td>\n",
              "      <td>1889.5</td>\n",
              "      <td>No</td>\n",
              "    </tr>\n",
              "    <tr>\n",
              "      <th>2</th>\n",
              "      <td>Male</td>\n",
              "      <td>0</td>\n",
              "      <td>No</td>\n",
              "      <td>No</td>\n",
              "      <td>2</td>\n",
              "      <td>Yes</td>\n",
              "      <td>No</td>\n",
              "      <td>DSL</td>\n",
              "      <td>Yes</td>\n",
              "      <td>Yes</td>\n",
              "      <td>No</td>\n",
              "      <td>No</td>\n",
              "      <td>No</td>\n",
              "      <td>No</td>\n",
              "      <td>Month-to-month</td>\n",
              "      <td>Yes</td>\n",
              "      <td>Mailed check</td>\n",
              "      <td>53.85</td>\n",
              "      <td>108.15</td>\n",
              "      <td>Yes</td>\n",
              "    </tr>\n",
              "    <tr>\n",
              "      <th>3</th>\n",
              "      <td>Male</td>\n",
              "      <td>0</td>\n",
              "      <td>No</td>\n",
              "      <td>No</td>\n",
              "      <td>45</td>\n",
              "      <td>No</td>\n",
              "      <td>No phone service</td>\n",
              "      <td>DSL</td>\n",
              "      <td>Yes</td>\n",
              "      <td>No</td>\n",
              "      <td>Yes</td>\n",
              "      <td>Yes</td>\n",
              "      <td>No</td>\n",
              "      <td>No</td>\n",
              "      <td>One year</td>\n",
              "      <td>No</td>\n",
              "      <td>Bank transfer (automatic)</td>\n",
              "      <td>42.30</td>\n",
              "      <td>1840.75</td>\n",
              "      <td>No</td>\n",
              "    </tr>\n",
              "    <tr>\n",
              "      <th>4</th>\n",
              "      <td>Female</td>\n",
              "      <td>0</td>\n",
              "      <td>No</td>\n",
              "      <td>No</td>\n",
              "      <td>2</td>\n",
              "      <td>Yes</td>\n",
              "      <td>No</td>\n",
              "      <td>Fiber optic</td>\n",
              "      <td>No</td>\n",
              "      <td>No</td>\n",
              "      <td>No</td>\n",
              "      <td>No</td>\n",
              "      <td>No</td>\n",
              "      <td>No</td>\n",
              "      <td>Month-to-month</td>\n",
              "      <td>Yes</td>\n",
              "      <td>Electronic check</td>\n",
              "      <td>70.70</td>\n",
              "      <td>151.65</td>\n",
              "      <td>Yes</td>\n",
              "    </tr>\n",
              "    <tr>\n",
              "      <th>...</th>\n",
              "      <td>...</td>\n",
              "      <td>...</td>\n",
              "      <td>...</td>\n",
              "      <td>...</td>\n",
              "      <td>...</td>\n",
              "      <td>...</td>\n",
              "      <td>...</td>\n",
              "      <td>...</td>\n",
              "      <td>...</td>\n",
              "      <td>...</td>\n",
              "      <td>...</td>\n",
              "      <td>...</td>\n",
              "      <td>...</td>\n",
              "      <td>...</td>\n",
              "      <td>...</td>\n",
              "      <td>...</td>\n",
              "      <td>...</td>\n",
              "      <td>...</td>\n",
              "      <td>...</td>\n",
              "      <td>...</td>\n",
              "    </tr>\n",
              "    <tr>\n",
              "      <th>7038</th>\n",
              "      <td>Male</td>\n",
              "      <td>0</td>\n",
              "      <td>Yes</td>\n",
              "      <td>Yes</td>\n",
              "      <td>24</td>\n",
              "      <td>Yes</td>\n",
              "      <td>Yes</td>\n",
              "      <td>DSL</td>\n",
              "      <td>Yes</td>\n",
              "      <td>No</td>\n",
              "      <td>Yes</td>\n",
              "      <td>Yes</td>\n",
              "      <td>Yes</td>\n",
              "      <td>Yes</td>\n",
              "      <td>One year</td>\n",
              "      <td>Yes</td>\n",
              "      <td>Mailed check</td>\n",
              "      <td>84.80</td>\n",
              "      <td>1990.5</td>\n",
              "      <td>No</td>\n",
              "    </tr>\n",
              "    <tr>\n",
              "      <th>7039</th>\n",
              "      <td>Female</td>\n",
              "      <td>0</td>\n",
              "      <td>Yes</td>\n",
              "      <td>Yes</td>\n",
              "      <td>72</td>\n",
              "      <td>Yes</td>\n",
              "      <td>Yes</td>\n",
              "      <td>Fiber optic</td>\n",
              "      <td>No</td>\n",
              "      <td>Yes</td>\n",
              "      <td>Yes</td>\n",
              "      <td>No</td>\n",
              "      <td>Yes</td>\n",
              "      <td>Yes</td>\n",
              "      <td>One year</td>\n",
              "      <td>Yes</td>\n",
              "      <td>Credit card (automatic)</td>\n",
              "      <td>103.20</td>\n",
              "      <td>7362.9</td>\n",
              "      <td>No</td>\n",
              "    </tr>\n",
              "    <tr>\n",
              "      <th>7040</th>\n",
              "      <td>Female</td>\n",
              "      <td>0</td>\n",
              "      <td>Yes</td>\n",
              "      <td>Yes</td>\n",
              "      <td>11</td>\n",
              "      <td>No</td>\n",
              "      <td>No phone service</td>\n",
              "      <td>DSL</td>\n",
              "      <td>Yes</td>\n",
              "      <td>No</td>\n",
              "      <td>No</td>\n",
              "      <td>No</td>\n",
              "      <td>No</td>\n",
              "      <td>No</td>\n",
              "      <td>Month-to-month</td>\n",
              "      <td>Yes</td>\n",
              "      <td>Electronic check</td>\n",
              "      <td>29.60</td>\n",
              "      <td>346.45</td>\n",
              "      <td>No</td>\n",
              "    </tr>\n",
              "    <tr>\n",
              "      <th>7041</th>\n",
              "      <td>Male</td>\n",
              "      <td>1</td>\n",
              "      <td>Yes</td>\n",
              "      <td>No</td>\n",
              "      <td>4</td>\n",
              "      <td>Yes</td>\n",
              "      <td>Yes</td>\n",
              "      <td>Fiber optic</td>\n",
              "      <td>No</td>\n",
              "      <td>No</td>\n",
              "      <td>No</td>\n",
              "      <td>No</td>\n",
              "      <td>No</td>\n",
              "      <td>No</td>\n",
              "      <td>Month-to-month</td>\n",
              "      <td>Yes</td>\n",
              "      <td>Mailed check</td>\n",
              "      <td>74.40</td>\n",
              "      <td>306.6</td>\n",
              "      <td>Yes</td>\n",
              "    </tr>\n",
              "    <tr>\n",
              "      <th>7042</th>\n",
              "      <td>Male</td>\n",
              "      <td>0</td>\n",
              "      <td>No</td>\n",
              "      <td>No</td>\n",
              "      <td>66</td>\n",
              "      <td>Yes</td>\n",
              "      <td>No</td>\n",
              "      <td>Fiber optic</td>\n",
              "      <td>Yes</td>\n",
              "      <td>No</td>\n",
              "      <td>Yes</td>\n",
              "      <td>Yes</td>\n",
              "      <td>Yes</td>\n",
              "      <td>Yes</td>\n",
              "      <td>Two year</td>\n",
              "      <td>Yes</td>\n",
              "      <td>Bank transfer (automatic)</td>\n",
              "      <td>105.65</td>\n",
              "      <td>6844.5</td>\n",
              "      <td>No</td>\n",
              "    </tr>\n",
              "  </tbody>\n",
              "</table>\n",
              "<p>7043 rows × 20 columns</p>\n",
              "</div>\n",
              "      <button class=\"colab-df-convert\" onclick=\"convertToInteractive('df-629a6e3c-396c-45e6-9042-76b72ff0f09c')\"\n",
              "              title=\"Convert this dataframe to an interactive table.\"\n",
              "              style=\"display:none;\">\n",
              "        \n",
              "  <svg xmlns=\"http://www.w3.org/2000/svg\" height=\"24px\"viewBox=\"0 0 24 24\"\n",
              "       width=\"24px\">\n",
              "    <path d=\"M0 0h24v24H0V0z\" fill=\"none\"/>\n",
              "    <path d=\"M18.56 5.44l.94 2.06.94-2.06 2.06-.94-2.06-.94-.94-2.06-.94 2.06-2.06.94zm-11 1L8.5 8.5l.94-2.06 2.06-.94-2.06-.94L8.5 2.5l-.94 2.06-2.06.94zm10 10l.94 2.06.94-2.06 2.06-.94-2.06-.94-.94-2.06-.94 2.06-2.06.94z\"/><path d=\"M17.41 7.96l-1.37-1.37c-.4-.4-.92-.59-1.43-.59-.52 0-1.04.2-1.43.59L10.3 9.45l-7.72 7.72c-.78.78-.78 2.05 0 2.83L4 21.41c.39.39.9.59 1.41.59.51 0 1.02-.2 1.41-.59l7.78-7.78 2.81-2.81c.8-.78.8-2.07 0-2.86zM5.41 20L4 18.59l7.72-7.72 1.47 1.35L5.41 20z\"/>\n",
              "  </svg>\n",
              "      </button>\n",
              "      \n",
              "  <style>\n",
              "    .colab-df-container {\n",
              "      display:flex;\n",
              "      flex-wrap:wrap;\n",
              "      gap: 12px;\n",
              "    }\n",
              "\n",
              "    .colab-df-convert {\n",
              "      background-color: #E8F0FE;\n",
              "      border: none;\n",
              "      border-radius: 50%;\n",
              "      cursor: pointer;\n",
              "      display: none;\n",
              "      fill: #1967D2;\n",
              "      height: 32px;\n",
              "      padding: 0 0 0 0;\n",
              "      width: 32px;\n",
              "    }\n",
              "\n",
              "    .colab-df-convert:hover {\n",
              "      background-color: #E2EBFA;\n",
              "      box-shadow: 0px 1px 2px rgba(60, 64, 67, 0.3), 0px 1px 3px 1px rgba(60, 64, 67, 0.15);\n",
              "      fill: #174EA6;\n",
              "    }\n",
              "\n",
              "    [theme=dark] .colab-df-convert {\n",
              "      background-color: #3B4455;\n",
              "      fill: #D2E3FC;\n",
              "    }\n",
              "\n",
              "    [theme=dark] .colab-df-convert:hover {\n",
              "      background-color: #434B5C;\n",
              "      box-shadow: 0px 1px 3px 1px rgba(0, 0, 0, 0.15);\n",
              "      filter: drop-shadow(0px 1px 2px rgba(0, 0, 0, 0.3));\n",
              "      fill: #FFFFFF;\n",
              "    }\n",
              "  </style>\n",
              "\n",
              "      <script>\n",
              "        const buttonEl =\n",
              "          document.querySelector('#df-629a6e3c-396c-45e6-9042-76b72ff0f09c button.colab-df-convert');\n",
              "        buttonEl.style.display =\n",
              "          google.colab.kernel.accessAllowed ? 'block' : 'none';\n",
              "\n",
              "        async function convertToInteractive(key) {\n",
              "          const element = document.querySelector('#df-629a6e3c-396c-45e6-9042-76b72ff0f09c');\n",
              "          const dataTable =\n",
              "            await google.colab.kernel.invokeFunction('convertToInteractive',\n",
              "                                                     [key], {});\n",
              "          if (!dataTable) return;\n",
              "\n",
              "          const docLinkHtml = 'Like what you see? Visit the ' +\n",
              "            '<a target=\"_blank\" href=https://colab.research.google.com/notebooks/data_table.ipynb>data table notebook</a>'\n",
              "            + ' to learn more about interactive tables.';\n",
              "          element.innerHTML = '';\n",
              "          dataTable['output_type'] = 'display_data';\n",
              "          await google.colab.output.renderOutput(dataTable, element);\n",
              "          const docLink = document.createElement('div');\n",
              "          docLink.innerHTML = docLinkHtml;\n",
              "          element.appendChild(docLink);\n",
              "        }\n",
              "      </script>\n",
              "    </div>\n",
              "  </div>\n",
              "  "
            ]
          },
          "metadata": {},
          "execution_count": 65
        }
      ]
    },
    {
      "cell_type": "markdown",
      "source": [
        "# **Variaveis categóricas**\n",
        "\n",
        "Muitos modelos de aprensizado de máquinas não podem não podem lidar diretamente com variáveis ​​categóricas,então fez-se a transformação delas em variáveis ​​numéricas antes de serem usadas como entrada para o modelo.\n",
        "\n",
        "Existem várias razões pelas quais isso é importante:\n",
        "\n",
        "- Adequação do modelo: muitos modelos, como a regressão linear e regressão logística, são projetados para trabalhar com variáveis ​​numéricas. \n",
        "\n",
        "- Flexibilidade de análise: a codificação de variável categórica em variável numérica permite a aplicação de várias técnicas de análise, como gráficos e medidas estatísticas.\n",
        "\n",
        "- Interpretação: transformar variáveis ​​categóricas em variáveis ​​numéricas pode permitir uma interpretação mais clara dos resultados do modelo. \n",
        "\n",
        "- Eficiência computacional: A variável numérica pode melhorar a eficiência computacional do modelo, permitindo que o modelo seja executado mais rapidamente.\n",
        "\n",
        "\n",
        "\n"
      ],
      "metadata": {
        "id": "H4RagLge7UYz"
      }
    },
    {
      "cell_type": "markdown",
      "source": [
        "# **Adaptando a base de dados para aplicação em modelo**"
      ],
      "metadata": {
        "id": "kuF9FI7sKeEf"
      }
    },
    {
      "cell_type": "code",
      "source": [
        "# Identificando as variáveis categóricas\n",
        "variaveis_categoricas = ['gender', 'InternetService', 'Contract', 'PaymentMethod', 'MultipleLines','OnlineSecurity','OnlineBackup','DeviceProtection','TechSupport','StreamingTV','StreamingMovies' ]\n",
        "\n",
        "# Aplicando o One-Hot Encoding nas variáveis categóricas\n",
        "df_encoded = pd.get_dummies(df, columns=variaveis_categoricas)"
      ],
      "metadata": {
        "id": "xcfFij6vB2rG"
      },
      "execution_count": 66,
      "outputs": []
    },
    {
      "cell_type": "code",
      "source": [
        "import numpy as np\n",
        "\n",
        "#Tranforma as palavras No em 0 e Yes em 1 na base de dados para \n",
        "df_encoded = df_encoded.replace({'No': 0, 'Yes': 1})\n",
        "\n",
        "# escrevendo a nova base de dados em um novo arquivo csv\n",
        "df_encoded.to_csv('/content/drive/MyDrive/csv_por_churn/datatransf.csv', index=False)"
      ],
      "metadata": {
        "id": "fTy9BkhjAFxA"
      },
      "execution_count": 67,
      "outputs": []
    },
    {
      "cell_type": "markdown",
      "source": [
        "## **Divisão da base de dados**\n",
        "\n",
        "- Conjunto de treinamento: 60% dos dados originais\n",
        "- Conjunto de validação: 20% dos dados originais\n",
        "- Conjunto de teste: 20% dos dados originais\n",
        "\n",
        "\n"
      ],
      "metadata": {
        "id": "6AJz20SyANMk"
      }
    },
    {
      "cell_type": "code",
      "source": [
        "from sklearn.model_selection import train_test_split\n",
        "df = pd.read_csv('/content/drive/MyDrive/csv_por_churn/datatransf.csv')\n",
        "\n",
        "display(df)\n",
        "df.info()\n",
        "\n",
        "# Separando a coluna de rótulos (classe) da base de dados\n",
        "X = df.drop(['Churn','MonthlyCharges','TotalCharges'], axis=1)\n",
        "y = df['Churn']\n",
        "\n",
        "\n",
        "# Dividindo a base de dados em conjuntos de treinamento e teste\n",
        "X_train_val, X_test, y_train_val, y_test = train_test_split(X, y, test_size=0.2, random_state=42)\n",
        "\n",
        "# Dividindo o conjunto de treinamento e validação em conjuntos separados\n",
        "X_train, X_val, y_train, y_val = train_test_split(X_train_val, y_train_val, test_size=0.25, random_state=42)\n",
        "\n",
        "\n",
        "\n",
        "\n"
      ],
      "metadata": {
        "colab": {
          "base_uri": "https://localhost:8080/",
          "height": 1000
        },
        "id": "28KWF7fLJsll",
        "outputId": "447782c4-50f9-446d-ab25-a186653f05ae"
      },
      "execution_count": 68,
      "outputs": [
        {
          "output_type": "display_data",
          "data": {
            "text/plain": [
              "      SeniorCitizen  Partner  Dependents  tenure  PhoneService  \\\n",
              "0                 0        1           0       1             0   \n",
              "1                 0        0           0      34             1   \n",
              "2                 0        0           0       2             1   \n",
              "3                 0        0           0      45             0   \n",
              "4                 0        0           0       2             1   \n",
              "...             ...      ...         ...     ...           ...   \n",
              "7038              0        1           1      24             1   \n",
              "7039              0        1           1      72             1   \n",
              "7040              0        1           1      11             0   \n",
              "7041              1        1           0       4             1   \n",
              "7042              0        0           0      66             1   \n",
              "\n",
              "      PaperlessBilling  MonthlyCharges TotalCharges  Churn  gender_Female  \\\n",
              "0                    1           29.85        29.85      0              1   \n",
              "1                    0           56.95       1889.5      0              0   \n",
              "2                    1           53.85       108.15      1              0   \n",
              "3                    0           42.30      1840.75      0              0   \n",
              "4                    1           70.70       151.65      1              1   \n",
              "...                ...             ...          ...    ...            ...   \n",
              "7038                 1           84.80       1990.5      0              0   \n",
              "7039                 1          103.20       7362.9      0              1   \n",
              "7040                 1           29.60       346.45      0              1   \n",
              "7041                 1           74.40        306.6      1              0   \n",
              "7042                 1          105.65       6844.5      0              0   \n",
              "\n",
              "      ...  DeviceProtection_Yes  TechSupport_No  \\\n",
              "0     ...                     0               1   \n",
              "1     ...                     1               1   \n",
              "2     ...                     0               1   \n",
              "3     ...                     1               0   \n",
              "4     ...                     0               1   \n",
              "...   ...                   ...             ...   \n",
              "7038  ...                     1               0   \n",
              "7039  ...                     1               1   \n",
              "7040  ...                     0               1   \n",
              "7041  ...                     0               1   \n",
              "7042  ...                     1               0   \n",
              "\n",
              "      TechSupport_No internet service  TechSupport_Yes  StreamingTV_No  \\\n",
              "0                                   0                0               1   \n",
              "1                                   0                0               1   \n",
              "2                                   0                0               1   \n",
              "3                                   0                1               1   \n",
              "4                                   0                0               1   \n",
              "...                               ...              ...             ...   \n",
              "7038                                0                1               0   \n",
              "7039                                0                0               0   \n",
              "7040                                0                0               1   \n",
              "7041                                0                0               1   \n",
              "7042                                0                1               0   \n",
              "\n",
              "      StreamingTV_No internet service  StreamingTV_Yes  StreamingMovies_No  \\\n",
              "0                                   0                0                   1   \n",
              "1                                   0                0                   1   \n",
              "2                                   0                0                   1   \n",
              "3                                   0                0                   1   \n",
              "4                                   0                0                   1   \n",
              "...                               ...              ...                 ...   \n",
              "7038                                0                1                   0   \n",
              "7039                                0                1                   0   \n",
              "7040                                0                0                   1   \n",
              "7041                                0                0                   1   \n",
              "7042                                0                1                   0   \n",
              "\n",
              "      StreamingMovies_No internet service  StreamingMovies_Yes  \n",
              "0                                       0                    0  \n",
              "1                                       0                    0  \n",
              "2                                       0                    0  \n",
              "3                                       0                    0  \n",
              "4                                       0                    0  \n",
              "...                                   ...                  ...  \n",
              "7038                                    0                    1  \n",
              "7039                                    0                    1  \n",
              "7040                                    0                    0  \n",
              "7041                                    0                    0  \n",
              "7042                                    0                    1  \n",
              "\n",
              "[7043 rows x 42 columns]"
            ],
            "text/html": [
              "\n",
              "  <div id=\"df-e7878154-9906-44b1-8374-3b4c9e57fb52\">\n",
              "    <div class=\"colab-df-container\">\n",
              "      <div>\n",
              "<style scoped>\n",
              "    .dataframe tbody tr th:only-of-type {\n",
              "        vertical-align: middle;\n",
              "    }\n",
              "\n",
              "    .dataframe tbody tr th {\n",
              "        vertical-align: top;\n",
              "    }\n",
              "\n",
              "    .dataframe thead th {\n",
              "        text-align: right;\n",
              "    }\n",
              "</style>\n",
              "<table border=\"1\" class=\"dataframe\">\n",
              "  <thead>\n",
              "    <tr style=\"text-align: right;\">\n",
              "      <th></th>\n",
              "      <th>SeniorCitizen</th>\n",
              "      <th>Partner</th>\n",
              "      <th>Dependents</th>\n",
              "      <th>tenure</th>\n",
              "      <th>PhoneService</th>\n",
              "      <th>PaperlessBilling</th>\n",
              "      <th>MonthlyCharges</th>\n",
              "      <th>TotalCharges</th>\n",
              "      <th>Churn</th>\n",
              "      <th>gender_Female</th>\n",
              "      <th>...</th>\n",
              "      <th>DeviceProtection_Yes</th>\n",
              "      <th>TechSupport_No</th>\n",
              "      <th>TechSupport_No internet service</th>\n",
              "      <th>TechSupport_Yes</th>\n",
              "      <th>StreamingTV_No</th>\n",
              "      <th>StreamingTV_No internet service</th>\n",
              "      <th>StreamingTV_Yes</th>\n",
              "      <th>StreamingMovies_No</th>\n",
              "      <th>StreamingMovies_No internet service</th>\n",
              "      <th>StreamingMovies_Yes</th>\n",
              "    </tr>\n",
              "  </thead>\n",
              "  <tbody>\n",
              "    <tr>\n",
              "      <th>0</th>\n",
              "      <td>0</td>\n",
              "      <td>1</td>\n",
              "      <td>0</td>\n",
              "      <td>1</td>\n",
              "      <td>0</td>\n",
              "      <td>1</td>\n",
              "      <td>29.85</td>\n",
              "      <td>29.85</td>\n",
              "      <td>0</td>\n",
              "      <td>1</td>\n",
              "      <td>...</td>\n",
              "      <td>0</td>\n",
              "      <td>1</td>\n",
              "      <td>0</td>\n",
              "      <td>0</td>\n",
              "      <td>1</td>\n",
              "      <td>0</td>\n",
              "      <td>0</td>\n",
              "      <td>1</td>\n",
              "      <td>0</td>\n",
              "      <td>0</td>\n",
              "    </tr>\n",
              "    <tr>\n",
              "      <th>1</th>\n",
              "      <td>0</td>\n",
              "      <td>0</td>\n",
              "      <td>0</td>\n",
              "      <td>34</td>\n",
              "      <td>1</td>\n",
              "      <td>0</td>\n",
              "      <td>56.95</td>\n",
              "      <td>1889.5</td>\n",
              "      <td>0</td>\n",
              "      <td>0</td>\n",
              "      <td>...</td>\n",
              "      <td>1</td>\n",
              "      <td>1</td>\n",
              "      <td>0</td>\n",
              "      <td>0</td>\n",
              "      <td>1</td>\n",
              "      <td>0</td>\n",
              "      <td>0</td>\n",
              "      <td>1</td>\n",
              "      <td>0</td>\n",
              "      <td>0</td>\n",
              "    </tr>\n",
              "    <tr>\n",
              "      <th>2</th>\n",
              "      <td>0</td>\n",
              "      <td>0</td>\n",
              "      <td>0</td>\n",
              "      <td>2</td>\n",
              "      <td>1</td>\n",
              "      <td>1</td>\n",
              "      <td>53.85</td>\n",
              "      <td>108.15</td>\n",
              "      <td>1</td>\n",
              "      <td>0</td>\n",
              "      <td>...</td>\n",
              "      <td>0</td>\n",
              "      <td>1</td>\n",
              "      <td>0</td>\n",
              "      <td>0</td>\n",
              "      <td>1</td>\n",
              "      <td>0</td>\n",
              "      <td>0</td>\n",
              "      <td>1</td>\n",
              "      <td>0</td>\n",
              "      <td>0</td>\n",
              "    </tr>\n",
              "    <tr>\n",
              "      <th>3</th>\n",
              "      <td>0</td>\n",
              "      <td>0</td>\n",
              "      <td>0</td>\n",
              "      <td>45</td>\n",
              "      <td>0</td>\n",
              "      <td>0</td>\n",
              "      <td>42.30</td>\n",
              "      <td>1840.75</td>\n",
              "      <td>0</td>\n",
              "      <td>0</td>\n",
              "      <td>...</td>\n",
              "      <td>1</td>\n",
              "      <td>0</td>\n",
              "      <td>0</td>\n",
              "      <td>1</td>\n",
              "      <td>1</td>\n",
              "      <td>0</td>\n",
              "      <td>0</td>\n",
              "      <td>1</td>\n",
              "      <td>0</td>\n",
              "      <td>0</td>\n",
              "    </tr>\n",
              "    <tr>\n",
              "      <th>4</th>\n",
              "      <td>0</td>\n",
              "      <td>0</td>\n",
              "      <td>0</td>\n",
              "      <td>2</td>\n",
              "      <td>1</td>\n",
              "      <td>1</td>\n",
              "      <td>70.70</td>\n",
              "      <td>151.65</td>\n",
              "      <td>1</td>\n",
              "      <td>1</td>\n",
              "      <td>...</td>\n",
              "      <td>0</td>\n",
              "      <td>1</td>\n",
              "      <td>0</td>\n",
              "      <td>0</td>\n",
              "      <td>1</td>\n",
              "      <td>0</td>\n",
              "      <td>0</td>\n",
              "      <td>1</td>\n",
              "      <td>0</td>\n",
              "      <td>0</td>\n",
              "    </tr>\n",
              "    <tr>\n",
              "      <th>...</th>\n",
              "      <td>...</td>\n",
              "      <td>...</td>\n",
              "      <td>...</td>\n",
              "      <td>...</td>\n",
              "      <td>...</td>\n",
              "      <td>...</td>\n",
              "      <td>...</td>\n",
              "      <td>...</td>\n",
              "      <td>...</td>\n",
              "      <td>...</td>\n",
              "      <td>...</td>\n",
              "      <td>...</td>\n",
              "      <td>...</td>\n",
              "      <td>...</td>\n",
              "      <td>...</td>\n",
              "      <td>...</td>\n",
              "      <td>...</td>\n",
              "      <td>...</td>\n",
              "      <td>...</td>\n",
              "      <td>...</td>\n",
              "      <td>...</td>\n",
              "    </tr>\n",
              "    <tr>\n",
              "      <th>7038</th>\n",
              "      <td>0</td>\n",
              "      <td>1</td>\n",
              "      <td>1</td>\n",
              "      <td>24</td>\n",
              "      <td>1</td>\n",
              "      <td>1</td>\n",
              "      <td>84.80</td>\n",
              "      <td>1990.5</td>\n",
              "      <td>0</td>\n",
              "      <td>0</td>\n",
              "      <td>...</td>\n",
              "      <td>1</td>\n",
              "      <td>0</td>\n",
              "      <td>0</td>\n",
              "      <td>1</td>\n",
              "      <td>0</td>\n",
              "      <td>0</td>\n",
              "      <td>1</td>\n",
              "      <td>0</td>\n",
              "      <td>0</td>\n",
              "      <td>1</td>\n",
              "    </tr>\n",
              "    <tr>\n",
              "      <th>7039</th>\n",
              "      <td>0</td>\n",
              "      <td>1</td>\n",
              "      <td>1</td>\n",
              "      <td>72</td>\n",
              "      <td>1</td>\n",
              "      <td>1</td>\n",
              "      <td>103.20</td>\n",
              "      <td>7362.9</td>\n",
              "      <td>0</td>\n",
              "      <td>1</td>\n",
              "      <td>...</td>\n",
              "      <td>1</td>\n",
              "      <td>1</td>\n",
              "      <td>0</td>\n",
              "      <td>0</td>\n",
              "      <td>0</td>\n",
              "      <td>0</td>\n",
              "      <td>1</td>\n",
              "      <td>0</td>\n",
              "      <td>0</td>\n",
              "      <td>1</td>\n",
              "    </tr>\n",
              "    <tr>\n",
              "      <th>7040</th>\n",
              "      <td>0</td>\n",
              "      <td>1</td>\n",
              "      <td>1</td>\n",
              "      <td>11</td>\n",
              "      <td>0</td>\n",
              "      <td>1</td>\n",
              "      <td>29.60</td>\n",
              "      <td>346.45</td>\n",
              "      <td>0</td>\n",
              "      <td>1</td>\n",
              "      <td>...</td>\n",
              "      <td>0</td>\n",
              "      <td>1</td>\n",
              "      <td>0</td>\n",
              "      <td>0</td>\n",
              "      <td>1</td>\n",
              "      <td>0</td>\n",
              "      <td>0</td>\n",
              "      <td>1</td>\n",
              "      <td>0</td>\n",
              "      <td>0</td>\n",
              "    </tr>\n",
              "    <tr>\n",
              "      <th>7041</th>\n",
              "      <td>1</td>\n",
              "      <td>1</td>\n",
              "      <td>0</td>\n",
              "      <td>4</td>\n",
              "      <td>1</td>\n",
              "      <td>1</td>\n",
              "      <td>74.40</td>\n",
              "      <td>306.6</td>\n",
              "      <td>1</td>\n",
              "      <td>0</td>\n",
              "      <td>...</td>\n",
              "      <td>0</td>\n",
              "      <td>1</td>\n",
              "      <td>0</td>\n",
              "      <td>0</td>\n",
              "      <td>1</td>\n",
              "      <td>0</td>\n",
              "      <td>0</td>\n",
              "      <td>1</td>\n",
              "      <td>0</td>\n",
              "      <td>0</td>\n",
              "    </tr>\n",
              "    <tr>\n",
              "      <th>7042</th>\n",
              "      <td>0</td>\n",
              "      <td>0</td>\n",
              "      <td>0</td>\n",
              "      <td>66</td>\n",
              "      <td>1</td>\n",
              "      <td>1</td>\n",
              "      <td>105.65</td>\n",
              "      <td>6844.5</td>\n",
              "      <td>0</td>\n",
              "      <td>0</td>\n",
              "      <td>...</td>\n",
              "      <td>1</td>\n",
              "      <td>0</td>\n",
              "      <td>0</td>\n",
              "      <td>1</td>\n",
              "      <td>0</td>\n",
              "      <td>0</td>\n",
              "      <td>1</td>\n",
              "      <td>0</td>\n",
              "      <td>0</td>\n",
              "      <td>1</td>\n",
              "    </tr>\n",
              "  </tbody>\n",
              "</table>\n",
              "<p>7043 rows × 42 columns</p>\n",
              "</div>\n",
              "      <button class=\"colab-df-convert\" onclick=\"convertToInteractive('df-e7878154-9906-44b1-8374-3b4c9e57fb52')\"\n",
              "              title=\"Convert this dataframe to an interactive table.\"\n",
              "              style=\"display:none;\">\n",
              "        \n",
              "  <svg xmlns=\"http://www.w3.org/2000/svg\" height=\"24px\"viewBox=\"0 0 24 24\"\n",
              "       width=\"24px\">\n",
              "    <path d=\"M0 0h24v24H0V0z\" fill=\"none\"/>\n",
              "    <path d=\"M18.56 5.44l.94 2.06.94-2.06 2.06-.94-2.06-.94-.94-2.06-.94 2.06-2.06.94zm-11 1L8.5 8.5l.94-2.06 2.06-.94-2.06-.94L8.5 2.5l-.94 2.06-2.06.94zm10 10l.94 2.06.94-2.06 2.06-.94-2.06-.94-.94-2.06-.94 2.06-2.06.94z\"/><path d=\"M17.41 7.96l-1.37-1.37c-.4-.4-.92-.59-1.43-.59-.52 0-1.04.2-1.43.59L10.3 9.45l-7.72 7.72c-.78.78-.78 2.05 0 2.83L4 21.41c.39.39.9.59 1.41.59.51 0 1.02-.2 1.41-.59l7.78-7.78 2.81-2.81c.8-.78.8-2.07 0-2.86zM5.41 20L4 18.59l7.72-7.72 1.47 1.35L5.41 20z\"/>\n",
              "  </svg>\n",
              "      </button>\n",
              "      \n",
              "  <style>\n",
              "    .colab-df-container {\n",
              "      display:flex;\n",
              "      flex-wrap:wrap;\n",
              "      gap: 12px;\n",
              "    }\n",
              "\n",
              "    .colab-df-convert {\n",
              "      background-color: #E8F0FE;\n",
              "      border: none;\n",
              "      border-radius: 50%;\n",
              "      cursor: pointer;\n",
              "      display: none;\n",
              "      fill: #1967D2;\n",
              "      height: 32px;\n",
              "      padding: 0 0 0 0;\n",
              "      width: 32px;\n",
              "    }\n",
              "\n",
              "    .colab-df-convert:hover {\n",
              "      background-color: #E2EBFA;\n",
              "      box-shadow: 0px 1px 2px rgba(60, 64, 67, 0.3), 0px 1px 3px 1px rgba(60, 64, 67, 0.15);\n",
              "      fill: #174EA6;\n",
              "    }\n",
              "\n",
              "    [theme=dark] .colab-df-convert {\n",
              "      background-color: #3B4455;\n",
              "      fill: #D2E3FC;\n",
              "    }\n",
              "\n",
              "    [theme=dark] .colab-df-convert:hover {\n",
              "      background-color: #434B5C;\n",
              "      box-shadow: 0px 1px 3px 1px rgba(0, 0, 0, 0.15);\n",
              "      filter: drop-shadow(0px 1px 2px rgba(0, 0, 0, 0.3));\n",
              "      fill: #FFFFFF;\n",
              "    }\n",
              "  </style>\n",
              "\n",
              "      <script>\n",
              "        const buttonEl =\n",
              "          document.querySelector('#df-e7878154-9906-44b1-8374-3b4c9e57fb52 button.colab-df-convert');\n",
              "        buttonEl.style.display =\n",
              "          google.colab.kernel.accessAllowed ? 'block' : 'none';\n",
              "\n",
              "        async function convertToInteractive(key) {\n",
              "          const element = document.querySelector('#df-e7878154-9906-44b1-8374-3b4c9e57fb52');\n",
              "          const dataTable =\n",
              "            await google.colab.kernel.invokeFunction('convertToInteractive',\n",
              "                                                     [key], {});\n",
              "          if (!dataTable) return;\n",
              "\n",
              "          const docLinkHtml = 'Like what you see? Visit the ' +\n",
              "            '<a target=\"_blank\" href=https://colab.research.google.com/notebooks/data_table.ipynb>data table notebook</a>'\n",
              "            + ' to learn more about interactive tables.';\n",
              "          element.innerHTML = '';\n",
              "          dataTable['output_type'] = 'display_data';\n",
              "          await google.colab.output.renderOutput(dataTable, element);\n",
              "          const docLink = document.createElement('div');\n",
              "          docLink.innerHTML = docLinkHtml;\n",
              "          element.appendChild(docLink);\n",
              "        }\n",
              "      </script>\n",
              "    </div>\n",
              "  </div>\n",
              "  "
            ]
          },
          "metadata": {}
        },
        {
          "output_type": "stream",
          "name": "stdout",
          "text": [
            "<class 'pandas.core.frame.DataFrame'>\n",
            "RangeIndex: 7043 entries, 0 to 7042\n",
            "Data columns (total 42 columns):\n",
            " #   Column                                   Non-Null Count  Dtype  \n",
            "---  ------                                   --------------  -----  \n",
            " 0   SeniorCitizen                            7043 non-null   int64  \n",
            " 1   Partner                                  7043 non-null   int64  \n",
            " 2   Dependents                               7043 non-null   int64  \n",
            " 3   tenure                                   7043 non-null   int64  \n",
            " 4   PhoneService                             7043 non-null   int64  \n",
            " 5   PaperlessBilling                         7043 non-null   int64  \n",
            " 6   MonthlyCharges                           7043 non-null   float64\n",
            " 7   TotalCharges                             7043 non-null   object \n",
            " 8   Churn                                    7043 non-null   int64  \n",
            " 9   gender_Female                            7043 non-null   int64  \n",
            " 10  gender_Male                              7043 non-null   int64  \n",
            " 11  InternetService_DSL                      7043 non-null   int64  \n",
            " 12  InternetService_Fiber optic              7043 non-null   int64  \n",
            " 13  InternetService_No                       7043 non-null   int64  \n",
            " 14  Contract_Month-to-month                  7043 non-null   int64  \n",
            " 15  Contract_One year                        7043 non-null   int64  \n",
            " 16  Contract_Two year                        7043 non-null   int64  \n",
            " 17  PaymentMethod_Bank transfer (automatic)  7043 non-null   int64  \n",
            " 18  PaymentMethod_Credit card (automatic)    7043 non-null   int64  \n",
            " 19  PaymentMethod_Electronic check           7043 non-null   int64  \n",
            " 20  PaymentMethod_Mailed check               7043 non-null   int64  \n",
            " 21  MultipleLines_No                         7043 non-null   int64  \n",
            " 22  MultipleLines_No phone service           7043 non-null   int64  \n",
            " 23  MultipleLines_Yes                        7043 non-null   int64  \n",
            " 24  OnlineSecurity_No                        7043 non-null   int64  \n",
            " 25  OnlineSecurity_No internet service       7043 non-null   int64  \n",
            " 26  OnlineSecurity_Yes                       7043 non-null   int64  \n",
            " 27  OnlineBackup_No                          7043 non-null   int64  \n",
            " 28  OnlineBackup_No internet service         7043 non-null   int64  \n",
            " 29  OnlineBackup_Yes                         7043 non-null   int64  \n",
            " 30  DeviceProtection_No                      7043 non-null   int64  \n",
            " 31  DeviceProtection_No internet service     7043 non-null   int64  \n",
            " 32  DeviceProtection_Yes                     7043 non-null   int64  \n",
            " 33  TechSupport_No                           7043 non-null   int64  \n",
            " 34  TechSupport_No internet service          7043 non-null   int64  \n",
            " 35  TechSupport_Yes                          7043 non-null   int64  \n",
            " 36  StreamingTV_No                           7043 non-null   int64  \n",
            " 37  StreamingTV_No internet service          7043 non-null   int64  \n",
            " 38  StreamingTV_Yes                          7043 non-null   int64  \n",
            " 39  StreamingMovies_No                       7043 non-null   int64  \n",
            " 40  StreamingMovies_No internet service      7043 non-null   int64  \n",
            " 41  StreamingMovies_Yes                      7043 non-null   int64  \n",
            "dtypes: float64(1), int64(40), object(1)\n",
            "memory usage: 2.3+ MB\n",
            "<class 'pandas.core.series.Series'>\n",
            "Int64Index: 4225 entries, 6157 to 6651\n",
            "Series name: Churn\n",
            "Non-Null Count  Dtype\n",
            "--------------  -----\n",
            "4225 non-null   int64\n",
            "dtypes: int64(1)\n",
            "memory usage: 66.0 KB\n"
          ]
        }
      ]
    },
    {
      "cell_type": "markdown",
      "source": [
        "# **Análise de balanceamento da base de treinamento**\n",
        "\n",
        "Uma base de treinamento desbalanceada é aquela em que há uma quantidade significativamente maior de exemplos de uma categoria do que da outra. Esse desequilíbrio pode causar problemas para o modelo de aprendizado de máquina, pois ele pode acabar aprendendo mais sobre a classe majoritária e ter dificuldades em reconhecer exemplos da classe minoritária.\n"
      ],
      "metadata": {
        "id": "UYc1jFQ3BZZx"
      }
    },
    {
      "cell_type": "code",
      "source": [
        "#Análise da base de treinamento original\n",
        "import seaborn as sns\n",
        "sns.set_style('dark')\n",
        "sns.countplot(x=y_train);"
      ],
      "metadata": {
        "colab": {
          "base_uri": "https://localhost:8080/",
          "height": 449
        },
        "id": "UJNkuAGctqYh",
        "outputId": "644a5351-3b50-42aa-8eff-cf579169f17d"
      },
      "execution_count": 46,
      "outputs": [
        {
          "output_type": "display_data",
          "data": {
            "text/plain": [
              "<Figure size 640x480 with 1 Axes>"
            ],
            "image/png": "[encoded data removed]"
          },
          "metadata": {}
        }
      ]
    },
    {
      "cell_type": "code",
      "source": [
        "#Acuracia do modelo aplicado na base sem balanceamento\n",
        "from sklearn.linear_model import LogisticRegression\n",
        "from sklearn.metrics import accuracy_score\n",
        "from sklearn.metrics import precision_score\n",
        "from sklearn.metrics import mean_squared_error\n",
        "\n",
        "\n",
        "# instanciar um objeto de regressão logística\n",
        "lr = LogisticRegression()\n",
        "\n",
        "# treinar o modelo com o conjunto de treinamento\n",
        "lr.fit(X_train, y_train)\n",
        "\n",
        "# fazer previsões com o conjunto de teste\n",
        "y_pred = lr.predict(X_test)\n",
        "\n",
        "# avaliar a acurácia do modelo\n",
        "acc = accuracy_score(y_test, y_pred)\n",
        "print(\"Acurácia:\", acc)\n",
        "precision = precision_score(y_test, y_pred)\n",
        "print(\"Precisão:\", precision)\n",
        "mse = mean_squared_error(y_test, y_pred)\n",
        "print(\"MSE:\", mse)"
      ],
      "metadata": {
        "colab": {
          "base_uri": "https://localhost:8080/"
        },
        "id": "RiL3l0kpx56I",
        "outputId": "a7be5540-016d-42cd-9199-e98b07ce97ea"
      },
      "execution_count": 92,
      "outputs": [
        {
          "output_type": "stream",
          "name": "stdout",
          "text": [
            "Acurácia: 0.8183108587650816\n",
            "Precisão: 0.68\n",
            "MSE: 0.1816891412349184\n"
          ]
        }
      ]
    },
    {
      "cell_type": "code",
      "source": [
        "# plotar a matriz de confusão (modelo treinado com base de treinamento desbalanceada )\n",
        "\n",
        "from sklearn.metrics import confusion_matrix, ConfusionMatrixDisplay\n",
        "import matplotlib.pyplot as plt\n",
        "\n",
        "cm_sub = confusion_matrix(y_test, y_pred)\n",
        "disp = ConfusionMatrixDisplay(confusion_matrix=cm_sub, display_labels=['0', '1'])\n",
        "disp.plot()\n",
        "plt.grid(False)\n",
        "plt.show()"
      ],
      "metadata": {
        "colab": {
          "base_uri": "https://localhost:8080/",
          "height": 449
        },
        "id": "b3cJXaCpe0XB",
        "outputId": "3b3fc9d1-ddac-43ea-e375-34e0ae98e45f"
      },
      "execution_count": 101,
      "outputs": [
        {
          "output_type": "display_data",
          "data": {
            "text/plain": [
              "<Figure size 640x480 with 2 Axes>"
            ],
            "image/png": "[encoded data removed]"
          },
          "metadata": {}
        }
      ]
    },
    {
      "cell_type": "markdown",
      "source": [
        "# **Sobreamostragem (oversampling)**\n",
        "Essa técnica consiste em aumentar o número de exemplos da classe minoritária para equilibrá-la com a classe majoritária"
      ],
      "metadata": {
        "id": "wYSoEY6R1KFQ"
      }
    },
    {
      "cell_type": "code",
      "source": [
        "from imblearn.over_sampling import SMOTE\n",
        "\n",
        "# instanciar um objeto SMOTE para sobreamostragem\n",
        "smote = SMOTE()\n",
        "\n",
        "# aplicar a técnica de sobreamostragem no conjunto de treinamento\n",
        "x_train_sob, y_train_sob = smote.fit_resample(X_train, y_train)"
      ],
      "metadata": {
        "id": "2JvROELlzJ7B"
      },
      "execution_count": 53,
      "outputs": []
    },
    {
      "cell_type": "code",
      "source": [
        "#Análise da base aplicando a técnica de sobreamostragem no conjunto de treinamento\n",
        "import seaborn as sns\n",
        "sns.set_style('dark')\n",
        "sns.countplot(x=y_train_sob);"
      ],
      "metadata": {
        "colab": {
          "base_uri": "https://localhost:8080/",
          "height": 449
        },
        "id": "xV9BGhm1zXz5",
        "outputId": "fc8e77b9-fff0-44ab-9a55-efeb53b57bb1"
      },
      "execution_count": 54,
      "outputs": [
        {
          "output_type": "display_data",
          "data": {
            "text/plain": [
              "<Figure size 640x480 with 1 Axes>"
            ],
            "image/png": "[encoded data removed]"
          },
          "metadata": {}
        }
      ]
    },
    {
      "cell_type": "code",
      "source": [
        "# instanciar um objeto de regressão logística\n",
        "lr_sob = LogisticRegression()\n",
        "\n",
        "# treinar o modelo com o conjunto de treinamento\n",
        "lr_sob.fit(x_train_sob, y_train_sob)\n",
        "\n",
        "# fazer previsões com o conjunto de teste\n",
        "y_pred_sob = lr_sob.predict(X_test)\n",
        "\n",
        "# avaliar a acurácia do modelo\n",
        "acc = accuracy_score(y_test, y_pred_sob)\n",
        "print(\"Acurácia:\", acc)\n",
        "precision = precision_score(y_test, y_pred_sob)\n",
        "print(\"Precisão:\", precision)\n",
        "mse = mean_squared_error(y_test, y_pred_sob)\n",
        "print(\"MSE:\", mse)"
      ],
      "metadata": {
        "colab": {
          "base_uri": "https://localhost:8080/"
        },
        "id": "kjRN5SdMwnua",
        "outputId": "3db34a35-135a-4d73-8372-31683e7585fe"
      },
      "execution_count": 93,
      "outputs": [
        {
          "output_type": "stream",
          "name": "stdout",
          "text": [
            "Acurácia: 0.8005677785663591\n",
            "Precisão: 0.607981220657277\n",
            "MSE: 0.1994322214336409\n"
          ]
        },
        {
          "output_type": "stream",
          "name": "stderr",
          "text": [
            "/usr/local/lib/python3.9/dist-packages/sklearn/linear_model/_logistic.py:458: ConvergenceWarning: lbfgs failed to converge (status=1):\n",
            "STOP: TOTAL NO. of ITERATIONS REACHED LIMIT.\n",
            "\n",
            "Increase the number of iterations (max_iter) or scale the data as shown in:\n",
            "    https://scikit-learn.org/stable/modules/preprocessing.html\n",
            "Please also refer to the documentation for alternative solver options:\n",
            "    https://scikit-learn.org/stable/modules/linear_model.html#logistic-regression\n",
            "  n_iter_i = _check_optimize_result(\n"
          ]
        }
      ]
    },
    {
      "cell_type": "code",
      "source": [
        "# plotar a matriz de confusão (modelo treinado com base de treinamento balanceada por sobamostragem)\n",
        "\n",
        "from sklearn.metrics import confusion_matrix, ConfusionMatrixDisplay\n",
        "import matplotlib.pyplot as plt\n",
        "\n",
        "cm_sub = confusion_matrix(y_test, y_pred_sob)\n",
        "disp = ConfusionMatrixDisplay(confusion_matrix=cm_sub, display_labels=['0', '1'])\n",
        "disp.plot()\n",
        "plt.grid(False)\n",
        "plt.show()"
      ],
      "metadata": {
        "colab": {
          "base_uri": "https://localhost:8080/",
          "height": 449
        },
        "id": "f7IkQxxVcq4T",
        "outputId": "d2daf616-a02a-4a84-beae-ea178a548603"
      },
      "execution_count": 100,
      "outputs": [
        {
          "output_type": "display_data",
          "data": {
            "text/plain": [
              "<Figure size 640x480 with 2 Axes>"
            ],
            "image/png": "[encoded data removed]"
          },
          "metadata": {}
        }
      ]
    },
    {
      "cell_type": "markdown",
      "source": [
        "# **Subamostragem (undersampling)**\n",
        "Essa técnica consiste em reduzir o número de exemplos da classe majoritária para equilibrar com a classe minoritária\n"
      ],
      "metadata": {
        "id": "1ZXqUcge1pwT"
      }
    },
    {
      "cell_type": "code",
      "source": [
        "from imblearn.under_sampling import RandomUnderSampler\n",
        "\n",
        "# instanciar um objeto RandomUnderSampler para subamostragem\n",
        "rus = RandomUnderSampler()\n",
        "\n",
        "# aplicar a técnica de subamostragem no conjunto de treinamento\n",
        "x_train_sub, y_train_sub = rus.fit_resample(X_train, y_train)"
      ],
      "metadata": {
        "id": "1WOEwjS_2Xe-"
      },
      "execution_count": 57,
      "outputs": []
    },
    {
      "cell_type": "code",
      "source": [
        "#Análise da base aplicando a técnica de subamostragem no conjunto de treinamento\n",
        "import seaborn as sns\n",
        "sns.set_style('dark')\n",
        "sns.countplot(x=y_train_sub);"
      ],
      "metadata": {
        "colab": {
          "base_uri": "https://localhost:8080/",
          "height": 449
        },
        "id": "2AqqmF5F4eO7",
        "outputId": "38f026e8-d1bf-40ab-d28d-85ed10554a81"
      },
      "execution_count": 58,
      "outputs": [
        {
          "output_type": "display_data",
          "data": {
            "text/plain": [
              "<Figure size 640x480 with 1 Axes>"
            ],
            "image/png": "[encoded data removed]"
          },
          "metadata": {}
        }
      ]
    },
    {
      "cell_type": "code",
      "source": [
        "# instanciar um objeto de regressão logística\n",
        "lr_sub = LogisticRegression()\n",
        "\n",
        "# treinar o modelo com o conjunto de treinamento\n",
        "lr_sub.fit(x_train_sub, y_train_sub)\n",
        "\n",
        "# fazer previsões com o conjunto de teste\n",
        "y_pred_sub = lr_sub.predict(X_test)\n",
        "\n",
        "# avaliar a acurácia do modelo\n",
        "acc = accuracy_score(y_test, y_pred_sub)\n",
        "print(\"Acurácia:\", acc)\n",
        "precision = precision_score(y_test, y_pred_sub)\n",
        "print(\"Precisão:\", precision)\n",
        "mse = mean_squared_error(y_test, y_pred_sub)\n",
        "print(\"MSE:\", mse)"
      ],
      "metadata": {
        "colab": {
          "base_uri": "https://localhost:8080/"
        },
        "id": "WS4wzMaJ4rbz",
        "outputId": "9c12907a-c4d8-4345-f7fb-858d45a5483f"
      },
      "execution_count": 94,
      "outputs": [
        {
          "output_type": "stream",
          "name": "stdout",
          "text": [
            "Acurácia: 0.759403832505323\n",
            "Precisão: 0.5289115646258503\n",
            "MSE: 0.24059616749467708\n"
          ]
        },
        {
          "output_type": "stream",
          "name": "stderr",
          "text": [
            "/usr/local/lib/python3.9/dist-packages/sklearn/linear_model/_logistic.py:458: ConvergenceWarning: lbfgs failed to converge (status=1):\n",
            "STOP: TOTAL NO. of ITERATIONS REACHED LIMIT.\n",
            "\n",
            "Increase the number of iterations (max_iter) or scale the data as shown in:\n",
            "    https://scikit-learn.org/stable/modules/preprocessing.html\n",
            "Please also refer to the documentation for alternative solver options:\n",
            "    https://scikit-learn.org/stable/modules/linear_model.html#logistic-regression\n",
            "  n_iter_i = _check_optimize_result(\n"
          ]
        }
      ]
    },
    {
      "cell_type": "code",
      "source": [
        "# plotar a matriz de confusão (modelo treinado com base de treinamento balanceada por subamostragem)\n",
        "\n",
        "from sklearn.metrics import confusion_matrix, ConfusionMatrixDisplay\n",
        "import matplotlib.pyplot as plt\n",
        "\n",
        "cm_sub = confusion_matrix(y_test, y_pred_sub)\n",
        "disp = ConfusionMatrixDisplay(confusion_matrix=cm_sub, display_labels=['0', '1'])\n",
        "disp.plot()\n",
        "plt.grid(False)\n",
        "plt.show()"
      ],
      "metadata": {
        "colab": {
          "base_uri": "https://localhost:8080/",
          "height": 449
        },
        "id": "FcDcTw91E5KL",
        "outputId": "457a945b-f8ec-4908-e6be-093275349c3b"
      },
      "execution_count": 99,
      "outputs": [
        {
          "output_type": "display_data",
          "data": {
            "text/plain": [
              "<Figure size 640x480 with 2 Axes>"
            ],
            "image/png": "[encoded data removed]"
          },
          "metadata": {}
        }
      ]
    },
    {
      "cell_type": "markdown",
      "source": [
        "# **Hiperparâmetros**\n",
        "\n",
        "São parâmetros que não são aprendidos pelo modelo de aprendizado de máquina durante o treinamento, mas sim definidos antes do início do processo de treinamento. Eles são usados ​​para controlar como o modelo é treinado e como ele deve se comportar durante a inferência, afetando o desempenho e a capacidade do modelo de generalização.\n",
        "\n",
        "\n",
        "\n"
      ],
      "metadata": {
        "id": "EY5qWW4H2TAa"
      }
    },
    {
      "cell_type": "markdown",
      "source": [
        "# **Base de treino desbalanceada**"
      ],
      "metadata": {
        "id": "gzk1ZxwqCeT3"
      }
    },
    {
      "cell_type": "code",
      "source": [
        "import pandas as pd\n",
        "from sklearn.model_selection import train_test_split, GridSearchCV\n",
        "from sklearn.ensemble import RandomForestClassifier\n",
        "\n",
        "# Definir os hiperparâmetros a serem ajustados\n",
        "parametros = {'n_estimators': [10, 50, 100, 200], 'max_depth': [None, 5, 10, 15]}\n",
        "\n",
        "# Instanciar o modelo\n",
        "modelo = RandomForestClassifier()\n",
        "\n",
        "# Instanciar o GridSearchCV para ajuste de hiperparâmetros\n",
        "ajuste_hiperparametros = GridSearchCV(modelo, parametros, cv=5)\n",
        "\n",
        "# Ajustar o modelo com o conjunto de treino e os hiperparâmetros selecionados com a base de treinamento desbalanceada\n",
        "ajuste_hiperparametros.fit(X_train, y_train)\n",
        "\n",
        "# Avaliar o desempenho do modelo com os hiperparâmetros ajustados no conjunto de validação\n",
        "desempenho_val = ajuste_hiperparametros.score(X_val, y_val)\n",
        "\n",
        "# Avaliar o desempenho final do modelo no conjunto de testes\n",
        "desempenho_teste = ajuste_hiperparametros.score(X_test, y_test)\n",
        "\n",
        "print(f\"Desempenho no conjunto de validação: {desempenho_val}\")\n",
        "print(f\"Desempenho no conjunto de testes: {desempenho_teste}\")"
      ],
      "metadata": {
        "colab": {
          "base_uri": "https://localhost:8080/"
        },
        "id": "gV6zkAFD3LD8",
        "outputId": "2defe870-b4d6-484c-fa93-ee33bc130528"
      },
      "execution_count": 139,
      "outputs": [
        {
          "output_type": "stream",
          "name": "stdout",
          "text": [
            "Desempenho no conjunto de validação: 0.7899219304471257\n",
            "Desempenho no conjunto de testes: 0.8026969481902059\n"
          ]
        }
      ]
    },
    {
      "cell_type": "markdown",
      "source": [
        "# **Base de treino balanceada - sobreamostragem**"
      ],
      "metadata": {
        "id": "wL8UQvl0ClxI"
      }
    },
    {
      "cell_type": "code",
      "source": [
        "# Ajustar o modelo com o conjunto de treino e os hiperparâmetros selecionados com a base de treinamento balanceada com sobamostragem\n",
        "ajuste_hiperparametros.fit(x_train_sob, y_train_sob)\n",
        "\n",
        "# Avaliar o desempenho do modelo com os hiperparâmetros ajustados no conjunto de validação\n",
        "desempenho_val = ajuste_hiperparametros.score(X_val, y_val)\n",
        "\n",
        "# Avaliar o desempenho final do modelo no conjunto de testes\n",
        "desempenho_teste = ajuste_hiperparametros.score(X_test, y_test)\n",
        "\n",
        "print(f\"Desempenho no conjunto de validação: {desempenho_val}\")\n",
        "print(f\"Desempenho no conjunto de testes: {desempenho_teste}\")"
      ],
      "metadata": {
        "colab": {
          "base_uri": "https://localhost:8080/"
        },
        "id": "bEnbn-3vBtEm",
        "outputId": "c957e042-0ea1-486c-a58b-f232e0107d96"
      },
      "execution_count": 136,
      "outputs": [
        {
          "output_type": "stream",
          "name": "stdout",
          "text": [
            "Desempenho no conjunto de validação: 0.7629524485450674\n",
            "Desempenho no conjunto de testes: 0.7792760823278921\n"
          ]
        }
      ]
    },
    {
      "cell_type": "markdown",
      "source": [
        "# **Base de treino - Subamostragem**"
      ],
      "metadata": {
        "id": "jvNbOCIPCzUR"
      }
    },
    {
      "cell_type": "code",
      "source": [
        "# Ajustar o modelo com o conjunto de treino e os hiperparâmetros selecionados com a base balanceada com subamostragem\n",
        "ajuste_hiperparametros.fit(x_train_sub, y_train_sub)\n",
        "\n",
        "# Avaliar o desempenho do modelo com os hiperparâmetros ajustados no conjunto de validação\n",
        "desempenho_val = ajuste_hiperparametros.score(X_val, y_val)\n",
        "\n",
        "# Avaliar o desempenho final do modelo no conjunto de testes\n",
        "desempenho_teste = ajuste_hiperparametros.score(X_test, y_test)\n",
        "\n",
        "print(f\"Desempenho no conjunto de validação: {desempenho_val}\")\n",
        "print(f\"Desempenho no conjunto de testes: {desempenho_teste}\")"
      ],
      "metadata": {
        "colab": {
          "base_uri": "https://localhost:8080/"
        },
        "id": "cxtuKx3mB1Ws",
        "outputId": "34474454-e576-46ff-94f6-dd47409da288"
      },
      "execution_count": 137,
      "outputs": [
        {
          "output_type": "stream",
          "name": "stdout",
          "text": [
            "Desempenho no conjunto de validação: 0.730305180979418\n",
            "Desempenho no conjunto de testes: 0.7444996451383961\n"
          ]
        }
      ]
    },
    {
      "cell_type": "markdown",
      "source": [
        "# **Conclusão**\n",
        "\n",
        "Os resultados mostram que a acurácia é relativamente alta em todos os conjuntos de dados, mas a precisão e o MSE variam de acordo com o método de balanceamento e o conjunto de dados usados.\n",
        "\n",
        "O uso de subamostragem e sobreamostragem para balancear a base de treinamento não parece ter melhorado o desempenho geral do modelo, com uma leve queda na precisão e aumento no MSE em alguns casos.\n",
        "\n",
        "A aplicação do GridSearchCV com RandomForestClassifier mostrou resultados semelhantes, com desempenho um pouco melhor na base de dados desbalanceada em comparação com as bases balanceadas.\n",
        "\n",
        "É importante notar que a avaliação do desempenho no conjunto de validação e no conjunto de teste é fundamental para garantir que o modelo esteja generalizando bem e não esteja superajustado aos dados de treinamento. No geral, os resultados sugerem que, embora a acurácia seja alta"
      ],
      "metadata": {
        "id": "oZdKtAg6HcJb"
      }
    }
  ]
}